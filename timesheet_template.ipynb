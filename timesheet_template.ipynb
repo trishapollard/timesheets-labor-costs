{
  "nbformat": 4,
  "nbformat_minor": 0,
  "metadata": {
    "colab": {
      "provenance": [],
      "authorship_tag": "ABX9TyM0oyiBcksKV3EqMANJlkbY",
      "include_colab_link": true
    },
    "kernelspec": {
      "name": "python3",
      "display_name": "Python 3"
    },
    "language_info": {
      "name": "python"
    }
  },
  "cells": [
    {
      "cell_type": "markdown",
      "metadata": {
        "id": "view-in-github",
        "colab_type": "text"
      },
      "source": [
        "<a href=\"https://colab.research.google.com/github/trishapollard/timesheets-labor-costs/blob/main/timesheet_template.ipynb\" target=\"_parent\"><img src=\"https://colab.research.google.com/assets/colab-badge.svg\" alt=\"Open In Colab\"/></a>"
      ]
    },
    {
      "cell_type": "code",
      "source": [
        "# Import necessary libraries\n",
        "import pandas as pd\n",
        "import numpy as np\n",
        "\n",
        "# Create a timesheet template function\n",
        "def create_timesheet_template():\n",
        "    # Define the structure of the timesheet\n",
        "    columns = ['Date', 'Employee Name', 'Project Name', 'Hours Worked', 'Comments']\n",
        "    timesheet = pd.DataFrame(columns=columns)\n",
        "\n",
        "    # Add sample data (optional)\n",
        "    sample_data = {\n",
        "        'Date': ['2024-01-01', '2024-01-02', '2024-01-03'],\n",
        "        'Employee Name': ['John Doe', 'Jane Smith', 'Alice Johnson'],\n",
        "        'Project Name': ['Project A', 'Project B', 'Project C'],\n",
        "        'Hours Worked': [8, 7.5, 6],\n",
        "        'Comments': ['Worked on task 1', 'Meeting with client', 'Reviewed documents']\n",
        "    }\n",
        "    sample_df = pd.DataFrame(sample_data)\n",
        "\n",
        "    # Append sample data to the template\n",
        "    timesheet = pd.concat([timesheet, sample_df], ignore_index=True)\n",
        "\n",
        "    return timesheet\n",
        "\n",
        "# Create the timesheet\n",
        "timesheet = create_timesheet_template()\n",
        "\n",
        "# Display the timesheet\n",
        "timesheet\n",
        "\n",
        "# Optional: Save the timesheet to a CSV file\n",
        "timesheet.to_csv('timesheet_template.csv', index=False)\n",
        "\n",
        "# Provide download link for the CSV file\n",
        "from google.colab import files\n",
        "files.download('timesheet_template.csv')\n"
      ],
      "metadata": {
        "colab": {
          "base_uri": "https://localhost:8080/",
          "height": 72
        },
        "id": "aJ9Y5oODSTi1",
        "outputId": "2bb4298d-48c1-419a-9fef-dcca884f0a3e"
      },
      "execution_count": 1,
      "outputs": [
        {
          "output_type": "stream",
          "name": "stderr",
          "text": [
            "<ipython-input-1-468d78a58429>:22: FutureWarning: The behavior of DataFrame concatenation with empty or all-NA entries is deprecated. In a future version, this will no longer exclude empty or all-NA columns when determining the result dtypes. To retain the old behavior, exclude the relevant entries before the concat operation.\n",
            "  timesheet = pd.concat([timesheet, sample_df], ignore_index=True)\n"
          ]
        },
        {
          "output_type": "display_data",
          "data": {
            "text/plain": [
              "<IPython.core.display.Javascript object>"
            ],
            "application/javascript": [
              "\n",
              "    async function download(id, filename, size) {\n",
              "      if (!google.colab.kernel.accessAllowed) {\n",
              "        return;\n",
              "      }\n",
              "      const div = document.createElement('div');\n",
              "      const label = document.createElement('label');\n",
              "      label.textContent = `Downloading \"${filename}\": `;\n",
              "      div.appendChild(label);\n",
              "      const progress = document.createElement('progress');\n",
              "      progress.max = size;\n",
              "      div.appendChild(progress);\n",
              "      document.body.appendChild(div);\n",
              "\n",
              "      const buffers = [];\n",
              "      let downloaded = 0;\n",
              "\n",
              "      const channel = await google.colab.kernel.comms.open(id);\n",
              "      // Send a message to notify the kernel that we're ready.\n",
              "      channel.send({})\n",
              "\n",
              "      for await (const message of channel.messages) {\n",
              "        // Send a message to notify the kernel that we're ready.\n",
              "        channel.send({})\n",
              "        if (message.buffers) {\n",
              "          for (const buffer of message.buffers) {\n",
              "            buffers.push(buffer);\n",
              "            downloaded += buffer.byteLength;\n",
              "            progress.value = downloaded;\n",
              "          }\n",
              "        }\n",
              "      }\n",
              "      const blob = new Blob(buffers, {type: 'application/binary'});\n",
              "      const a = document.createElement('a');\n",
              "      a.href = window.URL.createObjectURL(blob);\n",
              "      a.download = filename;\n",
              "      div.appendChild(a);\n",
              "      a.click();\n",
              "      div.remove();\n",
              "    }\n",
              "  "
            ]
          },
          "metadata": {}
        },
        {
          "output_type": "display_data",
          "data": {
            "text/plain": [
              "<IPython.core.display.Javascript object>"
            ],
            "application/javascript": [
              "download(\"download_28375727-edb7-4cc3-aabc-eaf62f0d8737\", \"timesheet_template.csv\", 219)"
            ]
          },
          "metadata": {}
        }
      ]
    }
  ]
}